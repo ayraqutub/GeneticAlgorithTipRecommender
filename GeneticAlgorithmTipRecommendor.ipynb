{
  "nbformat": 4,
  "nbformat_minor": 0,
  "metadata": {
    "colab": {
      "provenance": []
    },
    "kernelspec": {
      "name": "python3",
      "display_name": "Python 3"
    },
    "language_info": {
      "name": "python"
    }
  },
  "cells": [
    {
      "cell_type": "markdown",
      "source": [
        " # Genetic Algorithm Tip Recommendor\n",
        " Ayra Qutub\n",
        "\n",
        " ---\n",
        "This report discusses the design and implementation of a genetic algorithm system that recommends a tip percentage based on a multi-dimensional analysis of food quality and service quality. The project builds on the \"Tipper\" example in the skfuzzy library and extends it by implementing a genetic tree structure, using the EasyGA library, allowing the program to evaluate individual attributes that collectively define food and service quality. These are then used to recommend a tip amount."
      ],
      "metadata": {
        "id": "nx1ZLaslYqim"
      }
    },
    {
      "cell_type": "code",
      "execution_count": null,
      "metadata": {
        "colab": {
          "base_uri": "https://localhost:8080/"
        },
        "id": "To-ZMhBPTU0L",
        "outputId": "a015041e-9de7-47a4-db3e-85bda24fc52b"
      },
      "outputs": [
        {
          "output_type": "stream",
          "name": "stdout",
          "text": [
            "Requirement already satisfied: EasyGA in /usr/local/lib/python3.10/dist-packages (1.6.1)\n",
            "Requirement already satisfied: matplotlib~=3.3.2 in /usr/local/lib/python3.10/dist-packages (from EasyGA) (3.3.4)\n",
            "Requirement already satisfied: pyserial~=3.4 in /usr/local/lib/python3.10/dist-packages (from EasyGA) (3.5)\n",
            "Requirement already satisfied: pytest>=3.7 in /usr/local/lib/python3.10/dist-packages (from EasyGA) (8.3.3)\n",
            "Requirement already satisfied: tabulate>=0.8.7 in /usr/local/lib/python3.10/dist-packages (from EasyGA) (0.9.0)\n",
            "Requirement already satisfied: cycler>=0.10 in /usr/local/lib/python3.10/dist-packages (from matplotlib~=3.3.2->EasyGA) (0.12.1)\n",
            "Requirement already satisfied: kiwisolver>=1.0.1 in /usr/local/lib/python3.10/dist-packages (from matplotlib~=3.3.2->EasyGA) (1.4.7)\n",
            "Requirement already satisfied: numpy>=1.15 in /usr/local/lib/python3.10/dist-packages (from matplotlib~=3.3.2->EasyGA) (1.26.4)\n",
            "Requirement already satisfied: pillow>=6.2.0 in /usr/local/lib/python3.10/dist-packages (from matplotlib~=3.3.2->EasyGA) (11.0.0)\n",
            "Requirement already satisfied: pyparsing!=2.0.4,!=2.1.2,!=2.1.6,>=2.0.3 in /usr/local/lib/python3.10/dist-packages (from matplotlib~=3.3.2->EasyGA) (3.2.0)\n",
            "Requirement already satisfied: python-dateutil>=2.1 in /usr/local/lib/python3.10/dist-packages (from matplotlib~=3.3.2->EasyGA) (2.8.2)\n",
            "Requirement already satisfied: iniconfig in /usr/local/lib/python3.10/dist-packages (from pytest>=3.7->EasyGA) (2.0.0)\n",
            "Requirement already satisfied: packaging in /usr/local/lib/python3.10/dist-packages (from pytest>=3.7->EasyGA) (24.2)\n",
            "Requirement already satisfied: pluggy<2,>=1.5 in /usr/local/lib/python3.10/dist-packages (from pytest>=3.7->EasyGA) (1.5.0)\n",
            "Requirement already satisfied: exceptiongroup>=1.0.0rc8 in /usr/local/lib/python3.10/dist-packages (from pytest>=3.7->EasyGA) (1.2.2)\n",
            "Requirement already satisfied: tomli>=1 in /usr/local/lib/python3.10/dist-packages (from pytest>=3.7->EasyGA) (2.1.0)\n",
            "Requirement already satisfied: six>=1.5 in /usr/local/lib/python3.10/dist-packages (from python-dateutil>=2.1->matplotlib~=3.3.2->EasyGA) (1.16.0)\n",
            "Requirement already satisfied: scikit-fuzzy in /usr/local/lib/python3.10/dist-packages (0.5.0)\n"
          ]
        }
      ],
      "source": [
        "!pip install EasyGA\n",
        "!pip install scikit-fuzzy\n",
        "import EasyGA\n",
        "import random\n",
        "import numpy as np\n",
        "import os\n",
        "import pandas as pd\n",
        "import skfuzzy as fuzz\n",
        "from skfuzzy import control as ctrl"
      ]
    },
    {
      "cell_type": "markdown",
      "source": [
        "## Defining Rules\n",
        "The quality of the food is evaluated based on three inputs: temperature, flavor, and portion size. These are measured on a scale from 0 to 1, each representing how favorable the user determined these aspects to be, from poor to good.\n",
        "\n",
        "Five fuzzy rules are defined to map combinations of these input qualities to an output food quality.\n",
        "\n",
        "- Rule 1: If any attribute is rated as poor, then the food quality is poor.\n",
        "- Rule 2: If all attributes are average, the food quality is average.\n",
        "- Rule 3: If all attributes are good, the food quality is good.\n",
        "- Rule 4: If any two attributes are good, the food quality is good\n",
        "- Rule 5: If any attribute is average and no attributes are poor, the food quality is average\n",
        "\n",
        "Service quality is calculated based on attentiveness, friendliness, and speed, again using a scale from 0 to 1.\n",
        "\n",
        "Five fuzzy rules determine the service quality output:\n",
        "\n",
        "- Rule 1: If any attribute is poor, the service quality is poor\n",
        "- Rule 2: If all attributes are average, the service quality is average\n",
        "- Rule 3: If all attributes are good, the service quality is good.\n",
        "- Rule 4: If any two attributes are good, the service quality is good\n",
        "- Rule 5: If any attribute is average and no attributes are poor, the service quality is average\n",
        "\n",
        "The recommended tip percentage is determined based on the calculated values of food and service quality.\n",
        "\n",
        "The function defines antecedents for food and service quality, each with three fuzzy sets (poor, average, and good). The consequent, tip, ranges from 0% to 30%, allowing for a graded scale of tips.\n",
        "\n",
        "Six fuzzy rules govern the tip calculation:\n",
        "\n",
        "- Rule 1: If both qualities are poor, the tip is low\n",
        "- Rule 2: If both qualities are average, the tip is medium\n",
        "- Rule 3: If both qualities are good, the tip is high\n",
        "- Rule 4: If one quality is good and the other is average, the tip is high\n",
        "- Rule 5: If one quality is good and the other is poor, the tip is medium\n",
        "- Rule 6: If one quality is average and the other is poor, the tip is low"
      ],
      "metadata": {
        "id": "BQ3vf532ZKXf"
      }
    },
    {
      "cell_type": "code",
      "source": [
        "def food_rules(temperature, flavor, portion_size, food_quality):\n",
        "  rules = [\n",
        "  ctrl.Rule(temperature['poor'] | flavor['poor'] | portion_size['poor'], food_quality['poor']),\n",
        "  ctrl.Rule(temperature['average'] & flavor['average'] & portion_size['average'], food_quality['average']),\n",
        "  ctrl.Rule(temperature['good'] & flavor['good'] & portion_size['good'], food_quality['good']),\n",
        "  ctrl.Rule((temperature['good'] & flavor['good']) | (flavor['good'] & portion_size['good']) | (temperature['good'] & portion_size['good']), food_quality['good']),\n",
        "  ctrl.Rule((temperature['average'] | flavor['average'] | portion_size['average']) & ~(temperature['poor'] | flavor['poor'] | portion_size['poor']), food_quality['average'])\n",
        "  ]\n",
        "  return rules\n",
        "\n",
        "def service_rules(attentiveness, friendliness, speed, service_quality):\n",
        "  rules = [\n",
        "  ctrl.Rule(attentiveness['poor'] | friendliness['poor'] | speed['poor'], service_quality['poor']),\n",
        "  ctrl.Rule(attentiveness['average'] & friendliness['average'] & speed['average'], service_quality['average']),\n",
        "  ctrl.Rule(attentiveness['good'] & friendliness['good'] & speed['good'], service_quality['good']),\n",
        "  ctrl.Rule((attentiveness['good'] & friendliness['good']) | (friendliness['good'] & speed['good']) | (attentiveness['good'] & speed['good']), service_quality['good']),\n",
        "  ctrl.Rule((attentiveness['average'] | friendliness['average'] | speed['average']) & ~(attentiveness['poor'] | friendliness['poor'] | speed['poor']), service_quality['average'])\n",
        "  ]\n",
        "  return rules\n",
        "\n",
        "def tip_rules(food, service, tip):\n",
        "  rules = [\n",
        "  ctrl.Rule(food['poor'] & service['poor'], tip['low']),\n",
        "  ctrl.Rule(food['average'] & service['average'], tip['medium']),\n",
        "  ctrl.Rule(food['good'] & service['good'], tip['high']),\n",
        "  ctrl.Rule((food['good'] & service['average']) | (food['average'] & service['good']), tip['high']),\n",
        "  ctrl.Rule((food['good'] & service['poor']) | (food['poor'] & service['good']), tip['medium']),\n",
        "  ctrl.Rule((food['average'] & service['poor']) | (food['poor'] & service['average']), tip['low'])\n",
        "  ]\n",
        "  return rules\n"
      ],
      "metadata": {
        "id": "MLXqu1chOaGu"
      },
      "execution_count": null,
      "outputs": []
    },
    {
      "cell_type": "markdown",
      "source": [
        "## Membership Functions\n",
        "For the genetic system, we want the membership functions to be able to evolve so that we can determine which membership functions provide the best fit.\n",
        "\n",
        "To achieve this, the membership functions for each variable is defined based on the associated chromosome values."
      ],
      "metadata": {
        "id": "aRQqlLAyaJ0t"
      }
    },
    {
      "cell_type": "code",
      "source": [
        "def membership_functions(temperature, flavor, portion_size, food_quality, attentiveness, friendliness, speed, service_quality, food, service, tip):\n",
        "  food_quality_ctrl = ctrl.ControlSystem(food_rules(temperature, flavor, portion_size, food_quality))\n",
        "  food_sim = ctrl.ControlSystemSimulation(food_quality_ctrl)\n",
        "\n",
        "  service_quality_ctrl = ctrl.ControlSystem(service_rules(attentiveness, friendliness, speed, service_quality))\n",
        "  service_sim = ctrl.ControlSystemSimulation(service_quality_ctrl)\n",
        "\n",
        "  tip_ctrl = ctrl.ControlSystem(tip_rules(food, service, tip))\n",
        "  tip_sim = ctrl.ControlSystemSimulation(tip_ctrl)\n",
        "  return food_sim, service_sim, tip_sim"
      ],
      "metadata": {
        "id": "udAirI-vPjC_"
      },
      "execution_count": null,
      "outputs": []
    },
    {
      "cell_type": "markdown",
      "source": [
        "## System Set Up\n",
        "The fuzzy system is initialized by defining the antecedents and consequents for each controller.\n",
        "\n",
        "### Food Quality:\n",
        "\n",
        "Antecedents:\n",
        "- Temperature\n",
        "- Flavour\n",
        "- Portion Size\n",
        "\n",
        "Consequent:\n",
        "- Food Quality\n",
        "\n",
        "### Service Quality:\n",
        "\n",
        "Antecedents:\n",
        "- Attentiveness\n",
        "- Friendliness\n",
        "- Speed\n",
        "\n",
        "Consequent:\n",
        "- Service Quality\n",
        "\n",
        "### Tip:\n",
        "\n",
        "Antecedents:\n",
        "- Food Quality\n",
        "- Service Quality\n",
        "\n",
        "Consequent:\n",
        "- Tip"
      ],
      "metadata": {
        "id": "akGehruballv"
      }
    },
    {
      "cell_type": "code",
      "source": [
        "def setup_fuzzy_system(chromosome):\n",
        "  chromosome = [gene.value if hasattr(gene, 'value') else gene for gene in chromosome]\n",
        "  chromosome = [item for sublist in chromosome for item in sublist]\n",
        "  # print(chromosome[0:2])\n",
        "  temp_pr = chromosome[0:2]\n",
        "  temp_avg = chromosome[2:5]\n",
        "  temp_gd = chromosome[5:7]\n",
        "  flavor_pr = chromosome[7:9]\n",
        "  flavor_avg = chromosome[9:12]\n",
        "  flavor_gd = chromosome[12:14]\n",
        "  portion_pr = chromosome[14:16]\n",
        "  portion_avg = chromosome[16:19]\n",
        "  portion_gd = chromosome[19:21]\n",
        "  food_pr = chromosome[21:23]\n",
        "  food_avg = chromosome[23:26]\n",
        "  food_gd = chromosome[26:28]\n",
        "  atten_pr = chromosome[28:30]\n",
        "  atten_avg = chromosome[30:33]\n",
        "  atten_gd = chromosome[33:35]\n",
        "  frien_pr = chromosome[35:37]\n",
        "  frien_avg = chromosome[37:40]\n",
        "  frien_gd = chromosome[40:42]\n",
        "  speed_pr = chromosome[42:44]\n",
        "  speed_avg = chromosome[44:47]\n",
        "  speed_gd = chromosome[47:49]\n",
        "  service_pr = chromosome[49:51]\n",
        "  service_avg = chromosome[51:54]\n",
        "  service_gd = chromosome[54:56]\n",
        "  tip_pr = chromosome[56:58]\n",
        "  tip_avg = chromosome[58:61]\n",
        "  tip_gd = chromosome[61:63]\n",
        "\n",
        "\n",
        "\n",
        "  temperature = ctrl.Antecedent(np.arange(0, 1.1, 0.1), 'temperature')\n",
        "  flavor = ctrl.Antecedent(np.arange(0, 1.1, 0.1), 'flavor')\n",
        "  portion_size = ctrl.Antecedent(np.arange(0, 1.1, 0.1), 'portion_size')\n",
        "\n",
        "  food_quality = ctrl.Consequent(np.arange(0, 1.1, 0.1), 'food_quality')\n",
        "\n",
        "  temperature['poor'] = fuzz.trimf(temperature.universe, [0] + temp_pr)\n",
        "  temperature['average'] = fuzz.trimf(temperature.universe, temp_avg)\n",
        "  temperature['good'] = fuzz.trimf(temperature.universe, temp_gd + [1])\n",
        "\n",
        "  flavor['poor'] = fuzz.trimf(flavor.universe, [0] + flavor_pr)\n",
        "  flavor['average'] = fuzz.trimf(flavor.universe, flavor_avg)\n",
        "  flavor['good'] = fuzz.trimf(flavor.universe, flavor_gd + [1])\n",
        "\n",
        "  portion_size['poor'] = fuzz.trimf(portion_size.universe, [0] + portion_pr)\n",
        "  portion_size['average'] = fuzz.trimf(portion_size.universe, portion_avg)\n",
        "  portion_size['good'] = fuzz.trimf(portion_size.universe, portion_gd + [1])\n",
        "\n",
        "  food_quality['poor'] = fuzz.trimf(food_quality.universe, [0] + food_pr)\n",
        "  food_quality['average'] = fuzz.trimf(food_quality.universe, food_avg)\n",
        "  food_quality['good'] = fuzz.trimf(food_quality.universe, food_gd + [1])\n",
        "\n",
        "\n",
        "\n",
        "  attentiveness = ctrl.Antecedent(np.arange(0, 1.1, 0.1), 'attentiveness')\n",
        "  friendliness = ctrl.Antecedent(np.arange(0, 1.1, 0.1), 'friendliness')\n",
        "  speed = ctrl.Antecedent(np.arange(0, 1.1, 0.1), 'speed')\n",
        "\n",
        "  service_quality = ctrl.Consequent(np.arange(0, 1.1, 0.1), 'service_quality')\n",
        "\n",
        "  attentiveness['poor'] = fuzz.trimf(attentiveness.universe, [0] + atten_pr)\n",
        "  attentiveness['average'] = fuzz.trimf(attentiveness.universe, atten_avg)\n",
        "  attentiveness['good'] = fuzz.trimf(attentiveness.universe, atten_gd + [1])\n",
        "\n",
        "  friendliness['poor'] = fuzz.trimf(friendliness.universe, [0] + frien_pr)\n",
        "  friendliness['average'] = fuzz.trimf(friendliness.universe, frien_avg)\n",
        "  friendliness['good'] = fuzz.trimf(friendliness.universe, frien_gd + [1])\n",
        "\n",
        "  speed['poor'] = fuzz.trimf(speed.universe, [0] + speed_pr)\n",
        "  speed['average'] = fuzz.trimf(speed.universe, speed_avg)\n",
        "  speed['good'] = fuzz.trimf(speed.universe, speed_gd + [1])\n",
        "\n",
        "  service_quality['poor'] = fuzz.trimf(service_quality.universe, [0] + service_pr)\n",
        "  service_quality['average'] = fuzz.trimf(service_quality.universe, service_avg)\n",
        "  service_quality['good'] = fuzz.trimf(service_quality.universe, service_gd + [1])\n",
        "  # print(service_quality)\n",
        "\n",
        "\n",
        "\n",
        "  food = ctrl.Antecedent(np.arange(0, 1.1, 0.1), 'food')\n",
        "  service = ctrl.Antecedent(np.arange(0, 1.1, 0.1), 'service')\n",
        "\n",
        "  tip = ctrl.Consequent(np.arange(0, 31, 1), 'tip')\n",
        "\n",
        "  food['poor'] = fuzz.trimf(food.universe, [0] + food_pr)\n",
        "  food['average'] = fuzz.trimf(food.universe, food_avg)\n",
        "  food['good'] = fuzz.trimf(food.universe, food_gd + [1])\n",
        "\n",
        "  service['poor'] = fuzz.trimf(service.universe, [0] + service_pr)\n",
        "  service['average'] = fuzz.trimf(service.universe, service_avg)\n",
        "  service['good'] = fuzz.trimf(service.universe, service_gd + [1])\n",
        "\n",
        "  tip['low'] = fuzz.trimf(tip.universe, [0] + tip_pr)\n",
        "  tip['medium'] = fuzz.trimf(tip.universe, tip_avg)\n",
        "  tip['high'] = fuzz.trimf(tip.universe, tip_gd + [30])\n",
        "\n",
        "\n",
        "  return temperature, flavor, portion_size, food_quality, attentiveness, friendliness, speed, service_quality, food, service, tip"
      ],
      "metadata": {
        "id": "RWiz4hXTB2OO"
      },
      "execution_count": null,
      "outputs": []
    },
    {
      "cell_type": "markdown",
      "source": [],
      "metadata": {
        "id": "XJZJihJucHBl"
      }
    },
    {
      "cell_type": "markdown",
      "source": [
        "## Executing Inference:\n",
        "The consequent values are determined for the given inputs using the fuzzy logic system that we have set up."
      ],
      "metadata": {
        "id": "6d4ROMPecHH2"
      }
    },
    {
      "cell_type": "code",
      "source": [
        "def execute_fuzzy_inference(food_sim, service_sim, tip_sim, inputs):\n",
        "  food_sim.input['temperature'] = inputs['temperature']\n",
        "  food_sim.input['flavor'] = inputs['flavor']\n",
        "  food_sim.input['portion_size'] = inputs['portion_size']\n",
        "  food_sim.compute()\n",
        "  if 'food_quality' in food_sim.output:\n",
        "      food_quality_out = food_sim.output['food_quality']\n",
        "  else:\n",
        "      food_quality_out = 0\n",
        "\n",
        "  service_sim.input['attentiveness'] = inputs['attentiveness']\n",
        "  service_sim.input['friendliness'] = inputs['friendliness']\n",
        "  service_sim.input['speed'] = inputs['speed']\n",
        "  service_sim.compute()\n",
        "  if 'service_quality' in service_sim.output:\n",
        "      service_quality_out = service_sim.output['service_quality']\n",
        "  else:\n",
        "      service_quality_out = 0\n",
        "\n",
        "  tip_sim.input['food'] = food_quality_out\n",
        "  tip_sim.input['service'] = service_quality_out\n",
        "  tip_sim.compute()\n",
        "  if 'tip' in tip_sim.output:\n",
        "      predicted_tip = tip_sim.output['tip']\n",
        "  else:\n",
        "      predicted_tip = 0\n",
        "  return predicted_tip"
      ],
      "metadata": {
        "id": "5QTX6T7eHkxE"
      },
      "execution_count": null,
      "outputs": []
    },
    {
      "cell_type": "markdown",
      "source": [
        "## Genetic Evolution\n",
        "A chromosome is initialized with random values to be fed into the system. A fitness function is defined which minimizes error by comparing the system's output with the expected output. The system evolves to find the values which best fit the problem."
      ],
      "metadata": {
        "id": "LpJIVhUccTvY"
      }
    },
    {
      "cell_type": "code",
      "source": [
        "import os\n",
        "if os.path.exists(\"database.db\"):\n",
        "    os.remove(\"database.db\")\n",
        "\n",
        "ga = EasyGA.GA()\n",
        "train_data = pd.read_csv('tipper_train.csv')\n",
        "test_data = pd.read_csv('tipper_test.csv')\n",
        "def initialize_chromosome():\n",
        "  chromosome_data = [\n",
        "      sorted([random.uniform(0, 1) for _ in range(2)]),\n",
        "      sorted([random.uniform(0, 1) for _ in range(3)]),\n",
        "      sorted([random.uniform(0, 1) for _ in range(2)]),\n",
        "\n",
        "      sorted([random.uniform(0, 1) for _ in range(2)]),\n",
        "      sorted([random.uniform(0, 1) for _ in range(3)]),\n",
        "      sorted([random.uniform(0, 1) for _ in range(2)]),\n",
        "\n",
        "      sorted([random.uniform(0, 1) for _ in range(2)]),\n",
        "      sorted([random.uniform(0, 1) for _ in range(3)]),\n",
        "      sorted([random.uniform(0, 1) for _ in range(2)]),\n",
        "\n",
        "      sorted([random.uniform(0, 1) for _ in range(2)]),\n",
        "      sorted([random.uniform(0, 1) for _ in range(3)]),\n",
        "      sorted([random.uniform(0, 1) for _ in range(2)]),\n",
        "\n",
        "      sorted([random.uniform(0, 1) for _ in range(2)]),\n",
        "      sorted([random.uniform(0, 1) for _ in range(3)]),\n",
        "      sorted([random.uniform(0, 1) for _ in range(2)]),\n",
        "\n",
        "      sorted([random.uniform(0, 1) for _ in range(2)]),\n",
        "      sorted([random.uniform(0, 1) for _ in range(3)]),\n",
        "      sorted([random.uniform(0, 1) for _ in range(2)]),\n",
        "\n",
        "      sorted([random.uniform(0, 1) for _ in range(2)]),\n",
        "      sorted([random.uniform(0, 1) for _ in range(3)]),\n",
        "      sorted([random.uniform(0, 1) for _ in range(2)]),\n",
        "\n",
        "      sorted([random.uniform(0, 1) for _ in range(2)]),\n",
        "      sorted([random.uniform(0, 1) for _ in range(3)]),\n",
        "      sorted([random.uniform(0, 1) for _ in range(2)]),\n",
        "\n",
        "      sorted([random.uniform(0, 30) for _ in range(2)]),\n",
        "      sorted([random.uniform(0, 30) for _ in range(3)]),\n",
        "      sorted([random.uniform(0, 30) for _ in range(2)])\n",
        "\n",
        "  ]\n",
        "\n",
        "  # print(chromosome_data)\n",
        "  return chromosome_data\n",
        "  # return [item for sublist in chromosome_data for item in sublist]\n",
        "\n",
        "\n",
        "def fitness(chromosome):\n",
        "  # print(chromosome)\n",
        "  # print(chromosome[1])\n",
        "  temperature, flavor, portion_size, food_quality, attentiveness, friendliness, speed, service_quality, food, service, tip = setup_fuzzy_system(chromosome)\n",
        "  total_error = 0\n",
        "  for index, row in train_data.iterrows():\n",
        "    inputs = {\n",
        "        'temperature': max(0, min(1, row['food temperature'])),\n",
        "        'flavor': max(0, min(1, row['food flavor'])),\n",
        "        'portion_size': max(0, min(1, row['portion size'])),\n",
        "        'attentiveness': max(0, min(1, row['attentiveness'])),\n",
        "        'friendliness': max(0, min(1, row['friendliness'])),\n",
        "        'speed': max(0, min(1, row['speed of service']))\n",
        "    }\n",
        "    actual_tip = row['tip']\n",
        "    food_sim, service_sim, tip_sim = membership_functions(temperature, flavor, portion_size, food_quality, attentiveness, friendliness, speed, service_quality, food, service, tip)\n",
        "    predicted_tip = execute_fuzzy_inference(food_sim, service_sim, tip_sim, inputs)\n",
        "    error = abs(actual_tip - predicted_tip) ** 2\n",
        "    total_error += error\n",
        "  return total_error/ len(train_data)\n",
        "\n",
        "ga.fitness_function_impl = fitness\n",
        "ga.chromosome_length = 27\n",
        "ga.population_size = 5\n",
        "ga.generation_goal = 10\n",
        "ga.chromosome_impl = initialize_chromosome\n",
        "ga.target_fitness_type = 'min'\n",
        "ga.evolve()\n",
        "print(\"genetic system\")\n",
        "ga.print_best_chromosome()\n",
        "\n",
        "def initialize_original():\n",
        "  original_chromosome = [\n",
        "      [0.17, 0.33], [0.33, 0.5, 0.67], [0.67, 0.84],\n",
        "      [0.17, 0.33], [0.33, 0.5, 0.67], [0.67, 0.84],\n",
        "      [0.17, 0.33], [0.33, 0.5, 0.67], [0.67, 0.84],\n",
        "      [0.17, 0.33], [0.33, 0.5, 0.67], [0.67, 0.84],\n",
        "      [0.17, 0.33], [0.33, 0.5, 0.67], [0.67, 0.84],\n",
        "      [0.17, 0.33], [0.33, 0.5, 0.67], [0.67, 0.84],\n",
        "      [0.17, 0.33], [0.33, 0.5, 0.67], [0.67, 0.84],\n",
        "      [0.17, 0.33], [0.33, 0.5, 0.67], [0.67, 0.84],\n",
        "      [5, 10], [10, 15, 20], [20, 25]\n",
        "  ]\n",
        "  return original_chromosome\n",
        "\n",
        "oga= EasyGA.GA()\n",
        "oga.fitness_function_impl = fitness\n",
        "oga.chromosome_length = 27\n",
        "oga.population_size = 1\n",
        "oga.generation_goal = 1\n",
        "oga.chromosome_impl = initialize_original\n",
        "oga.target_fitness_type = 'min'\n",
        "oga.evolve()\n",
        "print(\"Original non-genetic system\")\n",
        "oga.print_best_chromosome()"
      ],
      "metadata": {
        "colab": {
          "base_uri": "https://localhost:8080/"
        },
        "id": "HwRNiEBgYWVE",
        "outputId": "f303af75-246f-4895-dca9-63e54ba407a1"
      },
      "execution_count": null,
      "outputs": [
        {
          "output_type": "stream",
          "name": "stdout",
          "text": [
            "genetic system\n",
            "Best Chromosome \t: [[0.19014157479091354, 0.5664563503627388]][[0.2223779870976138, 0.6765344894074736, 0.8759016906404644]][[0.5941475624882727, 0.6584944516139141]][[0.5199244065304364, 0.902079314502572]][[0.12872809351431158, 0.27157841708568087, 0.6096645776611244]][[0.18980323039480596, 0.25067137637413783]][[0.2171765863559425, 0.3626466978337054]][[0.3912715656615082, 0.6232380775468314, 0.719031593860905]][[0.011255174835646198, 0.9760249485084707]][[0.5988020707368273, 0.7610350909476346]][[0.40328213191249296, 0.8279896338748832, 0.9573609342806672]][[0.24308781837187265, 0.5902747667621889]][[0.4306058314218699, 0.9607418834705604]][[0.6230061905372362, 0.6939684424011657, 0.9694819489277545]][[0.3202319162310384, 0.7993174190250777]][[0.36873745295163973, 0.9455620623785417]][[0.07688997232729655, 0.7352586679148392, 0.7779001265448092]][[0.5453682015669857, 0.9873337068510882]][[0.8204661678235152, 0.9927345132092531]][[0.3595720643127399, 0.44417009469120794, 0.6099980776488662]][[0.56223084357524, 0.9007261157195458]][[0.08437815486684708, 0.613132408004049]][[0.004577497112463802, 0.38362108397887706, 0.787006868176992]][[0.6447745673682405, 0.645511615647333]][[4.991740132398852, 21.60789587751649]][[12.529668526389973, 24.51207936593824, 28.09573894771955]][[8.354648895446038, 20.552808927382]]\n",
            "Best Fitness    \t: 32.76501100346511\n",
            "Original non-genetic system\n",
            "Best Chromosome \t: [[0.17, 0.33]][[0.33, 0.5, 0.67]][[0.67, 0.84]][[0.17, 0.33]][[0.33, 0.5, 0.67]][[0.67, 0.84]][[0.17, 0.33]][[0.33, 0.5, 0.67]][[0.67, 0.84]][[0.17, 0.33]][[0.33, 0.5, 0.67]][[0.67, 0.84]][[0.17, 0.33]][[0.33, 0.5, 0.67]][[0.67, 0.84]][[0.17, 0.33]][[0.33, 0.5, 0.67]][[0.67, 0.84]][[0.17, 0.33]][[0.33, 0.5, 0.67]][[0.67, 0.84]][[0.17, 0.33]][[0.33, 0.5, 0.67]][[0.67, 0.84]][[5, 10]][[10, 15, 20]][[20, 25]]\n",
            "Best Fitness    \t: 72.30260518831678\n"
          ]
        }
      ]
    },
    {
      "cell_type": "markdown",
      "source": [
        "I used the easyGA library to implement my previous non-genetic system as well for the sake of comparison. This system doesn't evolve since it is non-genetic so `oga.population_size = 1\n",
        "oga.generation_goal = 1`.\n",
        "\n",
        "The values in the 'chromosome' that is meant to represent the non-genetic system are the values derived from using automf() .\n",
        "\n",
        "The fitness target is minimum so a lower fitness is better.\n",
        "\n",
        "This means that, upon comparing the genetic to the non-genetic system, the genetic system outperformed the original."
      ],
      "metadata": {
        "id": "_jxVNYKsTVpj"
      }
    }
  ]
}